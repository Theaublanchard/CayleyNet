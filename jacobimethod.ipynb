{
 "cells": [
  {
   "attachments": {},
   "cell_type": "markdown",
   "metadata": {},
   "source": [
    "# The Jacobi Method\n",
    "**Author**: Théau Blanchard\n",
    "\n",
    "*Date* : 12/2022"
   ]
  },
  {
   "attachments": {},
   "cell_type": "markdown",
   "metadata": {},
   "source": [
    "Several implementation of the Jacobi method for solving linear systems in numpy and pytorch. More information about the Jacobi method can be found in the [wikipedia article](https://en.wikipedia.org/wiki/Jacobi_method).\n",
    "\n",
    "We showcase that this method is a very effective method for solving linear systems quickly. It is possible to increase precision with a moderate cost in time. \n",
    "\n",
    "The most important part of this notebook is the implementation of the Jacobi method for sparse matrices in pytorch. For adjency or laplacian matrices, this method demonstrates significant speedup compared to a dense implementation."
   ]
  },
  {
   "cell_type": "code",
   "execution_count": 1,
   "metadata": {},
   "outputs": [],
   "source": [
    "import numpy as np\n",
    "import torch\n",
    "\n",
    "from torch_geometric.utils import (\n",
    "    add_self_loops,\n",
    "    get_laplacian,\n",
    "    to_dense_adj,\n",
    "    get_self_loop_attr\n",
    ")\n",
    "\n",
    "import timeit\n",
    "import matplotlib.pyplot as plt"
   ]
  },
  {
   "attachments": {},
   "cell_type": "markdown",
   "metadata": {},
   "source": [
    "# Numpy implementation"
   ]
  },
  {
   "cell_type": "code",
   "execution_count": 2,
   "metadata": {},
   "outputs": [],
   "source": [
    "def jacobi_numpy(A, b, K):\n",
    "    \"\"\"Solves the equation Ax=b for x using the Jacobi method with K iterations.\"\"\"\n",
    "    inv_diag = np.diag(A)**-1\n",
    "    inv_diag[inv_diag == np.inf] = 0\n",
    "    off_diag = A - np.diag(np.diag(A))\n",
    "    J = - np.diag(inv_diag)@off_diag\n",
    "    b_1 = np.diag(inv_diag)@b\n",
    "    x_k = b_1.copy()\n",
    "    for k in range(K):\n",
    "        x_k = J@x_k + b_1\n",
    "    return x_k"
   ]
  },
  {
   "attachments": {},
   "cell_type": "markdown",
   "metadata": {},
   "source": [
    "# Pytorch implementation for dense matrices"
   ]
  },
  {
   "cell_type": "code",
   "execution_count": 3,
   "metadata": {},
   "outputs": [],
   "source": [
    "def jacobi_dense(A, b, K):\n",
    "    \"\"\"Solves the equation Ax=b for x using the Jacobi method with K iterations.\n",
    "    \n",
    "    Parameters\n",
    "    ----------\n",
    "    A : torch.Tensor, shape (n, n)\n",
    "    b : torch.Tensor, shape (n,1)\n",
    "    K : int\n",
    "\n",
    "    Returns\n",
    "    -------\n",
    "    x_k : torch.Tensor, shape (n,), solution estimate of Ax=b\n",
    "    \"\"\"\n",
    "    \n",
    "    inv_diag = torch.diag(A)**-1\n",
    "    inv_diag[inv_diag == torch.inf] = 0\n",
    "    off_diag = A - torch.diag(torch.diag(A))\n",
    "    J = - torch.diag(inv_diag)@off_diag\n",
    "    b_1 = torch.diag(inv_diag)@b\n",
    "    x_k = b_1.clone()\n",
    "    for k in range(K):\n",
    "        x_k = J@x_k + b_1\n",
    "    return x_k"
   ]
  },
  {
   "attachments": {},
   "cell_type": "markdown",
   "metadata": {},
   "source": [
    "# Pytorch implementation for sparse matrices"
   ]
  },
  {
   "cell_type": "code",
   "execution_count": 4,
   "metadata": {},
   "outputs": [],
   "source": [
    "def get_diag(edge_index, edge_weight):\n",
    "    \"\"\"Computes the diagonal coefficients of the matrix A from the edge_index and edge_weight\"\"\"\n",
    "    mask = (edge_index[0, :] == edge_index[1, :])\n",
    "    selected_edge_weight = edge_weight[mask]\n",
    "    unique_edge_index = torch.unique(edge_index[1, :])\n",
    "    output = torch.zeros_like(unique_edge_index, dtype=edge_weight.dtype)\n",
    "    output.scatter_add_(0, edge_index[1, mask], selected_edge_weight)\n",
    "    return output\n",
    "\n",
    "def jacobi_sparse(edge_index,edge_weight,b,K, num_nodes):\n",
    "    \"\"\"Solves the equation Ax=b for x using the Jacobi method with K iterations\n",
    "    for a square sparse matrix A.\n",
    "    \n",
    "    Parameters\n",
    "    ----------\n",
    "    edge_index : torch.Tensor, shape (2, n), indices of nonzero entries of A\n",
    "    edge_weight : torch.Tensor, shape (n,), values of nonzero entries of A\n",
    "    b : torch.Tensor, shape (n,p)\n",
    "    K : int, number of iterations to approximate solution\n",
    "    num_nodes : int, size of the full square matrix A\n",
    "\n",
    "    Returns\n",
    "    -------\n",
    "    x_k : torch.Tensor, shape (n,p), solution estimate of Ax=b\n",
    "    \"\"\"\n",
    "    off_diag_mask = edge_index[0]!=edge_index[1]\n",
    "    off_diag_index = edge_index[:,off_diag_mask]\n",
    "    diag_value = get_diag(edge_index,edge_weight)\n",
    "    diag_index = torch.vstack([torch.arange(num_nodes),torch.arange(num_nodes)])\n",
    "    inv_diag = diag_value**-1\n",
    "    inv_diag[inv_diag == torch.inf] = 0\n",
    "\n",
    "    inv_diag = diag_value**-1\n",
    "    inv_diag[inv_diag == torch.inf] = 0\n",
    "\n",
    "    off_diag = edge_weight[off_diag_mask]\n",
    "    #sparse_coo_tensor to make the dot product Diag^-1 @ OffDiag\n",
    "    J = - torch.sparse.mm(torch.sparse_coo_tensor(diag_index,inv_diag,(num_nodes,num_nodes)),torch.sparse_coo_tensor(off_diag_index,off_diag,(num_nodes,num_nodes)))\n",
    "    b_1 = torch.sparse.mm(torch.sparse_coo_tensor(diag_index,inv_diag,torch.Size([num_nodes,num_nodes])),b)\n",
    "    x_k = b_1.clone()\n",
    "    for k in range(K):\n",
    "        x_k = J@x_k + b_1\n",
    "    return x_k  \n",
    "    "
   ]
  },
  {
   "attachments": {},
   "cell_type": "markdown",
   "metadata": {},
   "source": [
    "# Results"
   ]
  },
  {
   "attachments": {},
   "cell_type": "markdown",
   "metadata": {},
   "source": [
    "We test the method on a particuliar linear system. Here the objective is to solve the equation (6) of the paper \"CayleyNets: Graph Convolutional Neural Networks\n",
    "with Complex Rational Spectral Filters\". \n",
    "In particuliar we test the method on the normalized laplacian matrix of the Cora dataset."
   ]
  },
  {
   "cell_type": "code",
   "execution_count": 5,
   "metadata": {},
   "outputs": [
    {
     "data": {
      "text/plain": [
       "Data(x=[2708, 1433], edge_index=[2, 10556], y=[2708], train_mask=[2708], val_mask=[2708], test_mask=[2708])"
      ]
     },
     "execution_count": 5,
     "metadata": {},
     "output_type": "execute_result"
    }
   ],
   "source": [
    "from torch_geometric.datasets import Planetoid\n",
    "\n",
    "dataset = Planetoid(root='/tmp/Cora', name='Cora')\n",
    "data = dataset[0]\n",
    "x, edge_index = data.x, data.edge_index\n",
    "data"
   ]
  },
  {
   "cell_type": "code",
   "execution_count": 6,
   "metadata": {},
   "outputs": [],
   "source": [
    "#Get the laplacian\n",
    "edge_index, norm = get_laplacian(edge_index,normalization= \"sym\",num_nodes=x.shape[0],dtype=torch.complex64)\n",
    "\n",
    "zoomed_lap = 1. * norm # h*Delta with h=1    \n",
    "\n",
    "neg_idx, neg_norm = add_self_loops(edge_index=edge_index,edge_attr=zoomed_lap,fill_value=torch.tensor(-1j))  # h*Delta - i*Id\n",
    "pos_idx, pos_norm = add_self_loops(edge_index=edge_index,edge_attr=zoomed_lap,fill_value=torch.tensor(1j))  # h*Delta + i*Id         \n",
    "\n",
    "#Put to dense to test the dense implementation\n",
    "neg_lap_dense = to_dense_adj(neg_idx,edge_attr=neg_norm)[0]\n",
    "pos_lap_dense = to_dense_adj(pos_idx,edge_attr=pos_norm)[0]"
   ]
  },
  {
   "cell_type": "code",
   "execution_count": 8,
   "metadata": {},
   "outputs": [],
   "source": [
    "# Parameters of the problem\n",
    "num_nodes = x.shape[0]\n",
    "K = 10 # Jacobi iterations\n",
    "y0 = x.to(torch.complex64) # Initial propagated signal in eq. (6)\n",
    "b = torch.sparse_coo_tensor(neg_idx, neg_norm, torch.Size([num_nodes,num_nodes]))@y0 # Corresponds to b_j for j = 1 in eq. (7)"
   ]
  },
  {
   "cell_type": "code",
   "execution_count": 9,
   "metadata": {},
   "outputs": [],
   "source": [
    "y1_true = torch.inverse(pos_lap_dense)@b # True solution of eq. (6) for j = 1"
   ]
  },
  {
   "attachments": {},
   "cell_type": "markdown",
   "metadata": {},
   "source": [
    "## Speed performances"
   ]
  },
  {
   "cell_type": "code",
   "execution_count": 10,
   "metadata": {},
   "outputs": [
    {
     "name": "stdout",
     "output_type": "stream",
     "text": [
      "3.41 s ± 107 ms per loop (mean ± std. dev. of 7 runs, 1 loop each)\n",
      "700 ms ± 46.5 ms per loop (mean ± std. dev. of 7 runs, 1 loop each)\n",
      "14.2 s ± 340 ms per loop (mean ± std. dev. of 7 runs, 1 loop each)\n"
     ]
    }
   ],
   "source": [
    "%timeit y1_true = torch.inverse(pos_lap_dense)@b # True solution\n",
    "%timeit y1_sparse = jacobi_sparse(pos_idx,pos_norm,b,K,num_nodes) # Sparse implementation\n",
    "%timeit y1_dense = jacobi_dense(pos_lap_dense,b,K) # Dense implementation\n"
   ]
  },
  {
   "attachments": {},
   "cell_type": "markdown",
   "metadata": {},
   "source": [
    "## Accuracy results"
   ]
  },
  {
   "cell_type": "code",
   "execution_count": 143,
   "metadata": {},
   "outputs": [],
   "source": [
    "# Parameters of the problem\n",
    "num_nodes = x.shape[0]\n",
    "K = 50 # Jacobi iterations\n",
    "y0 = x.to(torch.complex64) # Initial propagated signal in eq. (6)\n",
    "b = torch.sparse_coo_tensor(neg_idx, neg_norm, torch.Size([num_nodes,num_nodes]))@y0 # Corresponds to b_j for j = 1 in eq. (7)"
   ]
  },
  {
   "cell_type": "code",
   "execution_count": 144,
   "metadata": {},
   "outputs": [],
   "source": [
    "c0 = torch.rand(16,x.shape[1])\n",
    "c1 = torch.rand(16,x.shape[1],dtype=torch.complex64)"
   ]
  },
  {
   "cell_type": "code",
   "execution_count": 145,
   "metadata": {},
   "outputs": [],
   "source": [
    "# True filter\n",
    "Gf = x@c0.T + 2*(y1_true@c1.T).real"
   ]
  },
  {
   "cell_type": "code",
   "execution_count": 146,
   "metadata": {},
   "outputs": [],
   "source": [
    "# Estimated solution at each iteration\n",
    "estimate_list = []\n",
    "\n",
    "\n",
    "off_diag_mask = pos_idx[0]!=pos_idx[1]\n",
    "off_diag_index = pos_idx[:,off_diag_mask]\n",
    "diag_value = get_diag(pos_idx,pos_norm)\n",
    "diag_index = torch.vstack([torch.arange(num_nodes),torch.arange(num_nodes)])\n",
    "inv_diag = diag_value**-1\n",
    "inv_diag[inv_diag == torch.inf] = 0\n",
    "\n",
    "inv_diag = diag_value**-1\n",
    "inv_diag[inv_diag == torch.inf] = 0\n",
    "\n",
    "off_diag = pos_norm[off_diag_mask]\n",
    "#sparse_coo_tensor to make the dot product Diag^-1 @ OffDiag\n",
    "J = - torch.sparse.mm(torch.sparse_coo_tensor(diag_index,inv_diag,(num_nodes,num_nodes)),torch.sparse_coo_tensor(off_diag_index,off_diag,(num_nodes,num_nodes)))\n",
    "b_1 = torch.sparse.mm(torch.sparse_coo_tensor(diag_index,inv_diag,torch.Size([num_nodes,num_nodes])),b)\n",
    "y_k = b_1.clone()\n",
    "estimate_list.append(y_k)\n",
    "for k in range(K):\n",
    "    y_k = J@y_k + b_1\n",
    "    estimate_list.append(y_k)\n"
   ]
  },
  {
   "cell_type": "code",
   "execution_count": 147,
   "metadata": {},
   "outputs": [],
   "source": [
    "Gf_k_list = []\n",
    "for k, y_k in enumerate(estimate_list):\n",
    "    Gf_k = x@c0.T + 2 * (y_k@c1.T).real\n",
    "    Gf_k_list.append(Gf_k)"
   ]
  },
  {
   "cell_type": "code",
   "execution_count": 148,
   "metadata": {},
   "outputs": [],
   "source": [
    "residual = []\n",
    "norm_f = torch.linalg.norm(x,ord=2)\n",
    "for k, Gf_k in enumerate(Gf_k_list):\n",
    "    residual.append(torch.linalg.norm(Gf-Gf_k,ord='fro')/norm_f)\n"
   ]
  },
  {
   "cell_type": "code",
   "execution_count": 149,
   "metadata": {},
   "outputs": [
    {
     "name": "stdout",
     "output_type": "stream",
     "text": [
      "tensor(0.7071)\n"
     ]
    }
   ],
   "source": [
    "# Compute bound parameters\n",
    "M = np.sqrt(num_nodes)* c1.abs().sum()\n",
    "kappa = torch.linalg.norm(J.to_dense(),ord=2)#float('inf'))\n",
    "print(kappa)"
   ]
  },
  {
   "cell_type": "code",
   "execution_count": 154,
   "metadata": {},
   "outputs": [
    {
     "data": {
      "image/png": "[encoded data removed]",
      "text/plain": [
       "<Figure size 640x480 with 1 Axes>"
      ]
     },
     "metadata": {},
     "output_type": "display_data"
    }
   ],
   "source": [
    "plt.semilogy(residual,label='residual')\n",
    "plt.semilogy([2*M*kappa**k for k in range(len(residual))],label='upper bound')\n",
    "plt.xlabel(\"K value\")\n",
    "plt.legend()\n",
    "plt.grid()\n",
    "# plt.savefig(\"convergence_jacobi.svg\")\n",
    "plt.show()"
   ]
  }
 ],
 "metadata": {
  "kernelspec": {
   "display_name": "Python 3",
   "language": "python",
   "name": "python3"
  },
  "language_info": {
   "codemirror_mode": {
    "name": "ipython",
    "version": 3
   },
   "file_extension": ".py",
   "mimetype": "text/x-python",
   "name": "python",
   "nbconvert_exporter": "python",
   "pygments_lexer": "ipython3",
   "version": "3.10.6"
  },
  "orig_nbformat": 4,
  "vscode": {
   "interpreter": {
    "hash": "4c179c89db429766a083a4a38a3a1be56067680fe16a84421ce53f1a87e0611e"
   }
  }
 },
 "nbformat": 4,
 "nbformat_minor": 2
}
